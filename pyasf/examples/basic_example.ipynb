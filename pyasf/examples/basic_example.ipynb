{
 "metadata": {
  "name": ""
 },
 "nbformat": 3,
 "nbformat_minor": 0,
 "worksheets": [
  {
   "cells": [
    {
     "cell_type": "code",
     "collapsed": false,
     "input": [
      "import pylab\n",
      "import pyasf\n",
      "import sympy as sp"
     ],
     "language": "python",
     "metadata": {},
     "outputs": [],
     "prompt_number": 14
    },
    {
     "cell_type": "code",
     "collapsed": false,
     "input": [
      "cs = pyasf.unit_cell(\"LiNbO3_R3cH_Abrahams86_ICSD_61118.cif\", resonant=\"Nb\")"
     ],
     "language": "python",
     "metadata": {},
     "outputs": [
      {
       "output_type": "stream",
       "stream": "stdout",
       "text": [
        "Multiple settings found in space group 161\n",
        "  Identified symbol `R3c:h' from .cif entry `r3c:h'\n",
        "Trigonal (hexagonal setting)\n"
       ]
      }
     ],
     "prompt_number": 4
    },
    {
     "cell_type": "code",
     "collapsed": false,
     "input": [
      "cs.AU_positions # positions in asymmetric unit"
     ],
     "language": "python",
     "metadata": {},
     "outputs": [
      {
       "metadata": {},
       "output_type": "pyout",
       "prompt_number": 5,
       "text": [
        "{'Li1': array([0, 0, 0.278720000000000], dtype=object),\n",
        " 'Nb1': array([0, 0, 0], dtype=object),\n",
        " 'O1': array([0.0475700000000000, 23/67, 0.0633600000000000], dtype=object)}"
       ]
      }
     ],
     "prompt_number": 5
    },
    {
     "cell_type": "code",
     "collapsed": false,
     "input": [
      "cs.AU_formfactorsDDc[\"Nb1\"] # cartesian representation of dipole dipole form factor tensor in asymmetric unit"
     ],
     "language": "python",
     "metadata": {},
     "outputs": [
      {
       "metadata": {},
       "output_type": "pyout",
       "prompt_number": 8,
       "text": [
        "array([[f_Nb1_dd_11, f_Nb1_dd_12, f_Nb1_dd_13],\n",
        "       [f_Nb1_dd_12, f_Nb1_dd_22, f_Nb1_dd_23],\n",
        "       [f_Nb1_dd_13, f_Nb1_dd_23, f_Nb1_dd_33]], dtype=object)"
       ]
      }
     ],
     "prompt_number": 8
    },
    {
     "cell_type": "code",
     "collapsed": false,
     "input": [
      "cs.get_tensor_symmetry() # apply all symmetry constraints of space group to all tensors (debye waller U_ij, f_ij)"
     ],
     "language": "python",
     "metadata": {},
     "outputs": [],
     "prompt_number": 9
    },
    {
     "cell_type": "code",
     "collapsed": false,
     "input": [
      "cs.AU_formfactorsDDc[\"Nb1\"] # now with symmetry"
     ],
     "language": "python",
     "metadata": {},
     "outputs": [
      {
       "metadata": {},
       "output_type": "pyout",
       "prompt_number": 10,
       "text": [
        "array([[f_Nb1_dd_22, 0, 0],\n",
        "       [0, f_Nb1_dd_22, 0],\n",
        "       [0, 0, f_Nb1_dd_33]], dtype=object)"
       ]
      }
     ],
     "prompt_number": 10
    },
    {
     "cell_type": "code",
     "collapsed": false,
     "input": [
      "cs.U[\"Nb1\"] # symmetry of U is different due to differeny basis"
     ],
     "language": "python",
     "metadata": {},
     "outputs": [
      {
       "metadata": {},
       "output_type": "pyout",
       "prompt_number": 12,
       "text": [
        "Matrix([\n",
        "[  U_Nb1_22, U_Nb1_22/2,        0],\n",
        "[U_Nb1_22/2,   U_Nb1_22,        0],\n",
        "[         0,          0, U_Nb1_33]])"
       ]
      }
     ],
     "prompt_number": 12
    },
    {
     "cell_type": "code",
     "collapsed": false,
     "input": [
      "cs.AU_formfactorsDD[\"Nb1\"] # representation of dipole dipole form factor tensor in crystal basis"
     ],
     "language": "python",
     "metadata": {},
     "outputs": [
      {
       "metadata": {},
       "output_type": "pyout",
       "prompt_number": 13,
       "text": [
        "array([[f_Nb1_dd_22, -f_Nb1_dd_22/2, 0],\n",
        "       [-f_Nb1_dd_22/2, f_Nb1_dd_22, 0],\n",
        "       [0, 0, f_Nb1_dd_33]], dtype=object)"
       ]
      }
     ],
     "prompt_number": 13
    },
    {
     "cell_type": "code",
     "collapsed": false,
     "input": [
      "vector = sp.Matrix([1,1,1]) # create random vector\n",
      "print cs.M * vector # the same vector in cartesian system defined as in Trueblood: doi:10.1107/S0108767396005697"
     ],
     "language": "python",
     "metadata": {},
     "outputs": [
      {
       "metadata": {},
       "output_type": "pyout",
       "prompt_number": 16,
       "text": [
        "Matrix([\n",
        "[        a/2],\n",
        "[sqrt(3)*a/2],\n",
        "[          c]])"
       ]
      }
     ],
     "prompt_number": 16
    },
    {
     "cell_type": "code",
     "collapsed": false,
     "input": [
      "cs.build_unit_cell() # construct unit cell from asymmetric unit\n",
      "F0 = cs.calc_structure_factor((0,0,3), Temp=False) # calculate structure factor without temperature"
     ],
     "language": "python",
     "metadata": {},
     "outputs": [],
     "prompt_number": 40
    },
    {
     "cell_type": "code",
     "collapsed": false,
     "input": [
      "print F0.n().simplify() # evaluate structure factor ==> forbidden reflection"
     ],
     "language": "python",
     "metadata": {},
     "outputs": [
      {
       "metadata": {},
       "output_type": "pyout",
       "prompt_number": 28,
       "text": [
        "0"
       ]
      }
     ],
     "prompt_number": 28
    },
    {
     "cell_type": "code",
     "collapsed": false,
     "input": [
      "cs.transform_structure_factor()\n",
      "cs.calc_scattered_amplitude() # calculate Structure Factor for higher orders tensors\n"
     ],
     "language": "python",
     "metadata": {},
     "outputs": [
      {
       "metadata": {},
       "output_type": "pyout",
       "prompt_number": 34,
       "text": [
        "True"
       ]
      }
     ],
     "prompt_number": 34
    },
    {
     "cell_type": "code",
     "collapsed": false,
     "input": [
      "print cs.E[\"ss\"] # also zero for sigma sigma scattering"
     ],
     "language": "python",
     "metadata": {},
     "outputs": [
      {
       "output_type": "stream",
       "stream": "stdout",
       "text": [
        "0\n"
       ]
      }
     ],
     "prompt_number": 32
    },
    {
     "cell_type": "code",
     "collapsed": false,
     "input": [
      "print cs.E[\"sp\"] # some dipole quadrupole scattering in sigma pi scattering channel"
     ],
     "language": "python",
     "metadata": {},
     "outputs": [
      {
       "output_type": "stream",
       "stream": "stdout",
       "text": [
        "-6.0*I*f_Nb1_dq_z21*sqrt(1 - 1801363.07711506/epsilon**2)*sqrt(epsilon**2 - 1801363.07711506)/Abs(epsilon)\n"
       ]
      }
     ],
     "prompt_number": 33
    },
    {
     "cell_type": "code",
     "collapsed": false,
     "input": [
      "Fhot = cs.calc_structure_factor((0,0,3), Temp=True) # calculate structure factor with temperature"
     ],
     "language": "python",
     "metadata": {},
     "outputs": [],
     "prompt_number": 35
    },
    {
     "cell_type": "code",
     "collapsed": false,
     "input": [
      "print Fhot.n().simplify() # also no temperature scattering"
     ],
     "language": "python",
     "metadata": {},
     "outputs": [
      {
       "output_type": "stream",
       "stream": "stdout",
       "text": [
        "0\n"
       ]
      }
     ],
     "prompt_number": 37
    },
    {
     "cell_type": "code",
     "collapsed": false,
     "input": [
      "cs.Q * cs.M * vector # same vector as before but in laboratory system as defined in doi:10.1107/S0108767391011509\n",
      "# others can be defined..."
     ],
     "language": "python",
     "metadata": {},
     "outputs": [
      {
       "metadata": {},
       "output_type": "pyout",
       "prompt_number": 80,
       "text": [
        "Matrix([\n",
        "[          c],\n",
        "[sqrt(3)*a/2],\n",
        "[       -a/2]])"
       ]
      }
     ],
     "prompt_number": 80
    },
    {
     "cell_type": "raw",
     "metadata": {},
     "source": [
      "Now lets check some more basic functionality"
     ]
    },
    {
     "cell_type": "code",
     "collapsed": false,
     "input": [
      "cs.subs # this dictionary contains all (momentary) values"
     ],
     "language": "python",
     "metadata": {},
     "outputs": [
      {
       "metadata": {},
       "output_type": "pyout",
       "prompt_number": 42,
       "text": [
        "{l: 3, a: 5.14739, c: 13.85614, h: 0, k: 0}"
       ]
      }
     ],
     "prompt_number": 42
    },
    {
     "cell_type": "code",
     "collapsed": false,
     "input": [
      "cs.Uaniso # but here the values for U from the ciffile"
     ],
     "language": "python",
     "metadata": {},
     "outputs": [
      {
       "metadata": {},
       "output_type": "pyout",
       "prompt_number": 44,
       "text": [
        "{'Li1': Matrix([\n",
        "[ 0.0113, 0.00566,    0.0],\n",
        "[0.00566, 0.01132,    0.0],\n",
        "[    0.0,     0.0, 0.0176]]),\n",
        " 'Nb1': Matrix([\n",
        "[0.00361, 0.00181,     0.0],\n",
        "[0.00181, 0.00361,     0.0],\n",
        "[    0.0,     0.0, 0.00323]]),\n",
        " 'O1': Matrix([\n",
        "[ 0.00674,  0.00297, -0.00102],\n",
        "[ 0.00297,   0.0054, -0.00203],\n",
        "[-0.00102, -0.00203,  0.00673]])}"
       ]
      }
     ],
     "prompt_number": 44
    },
    {
     "cell_type": "code",
     "collapsed": false,
     "input": [
      "cs.hkl() # current reflection?"
     ],
     "language": "python",
     "metadata": {},
     "outputs": [
      {
       "metadata": {},
       "output_type": "pyout",
       "prompt_number": 45,
       "text": [
        "(0, 0, 3)"
       ]
      }
     ],
     "prompt_number": 45
    },
    {
     "cell_type": "code",
     "collapsed": false,
     "input": [
      "cs.set_temperature # function that can be used to calculate ADPs from debye temperature or einstein temperature once given"
     ],
     "language": "python",
     "metadata": {},
     "outputs": [
      {
       "metadata": {},
       "output_type": "pyout",
       "prompt_number": 48,
       "text": [
        "<bound method unit_cell.set_temperature of <pyasf.pyasf.unit_cell object at 0x7f83dc305850>>"
       ]
      }
     ],
     "prompt_number": 48
    },
    {
     "cell_type": "code",
     "collapsed": false,
     "input": [
      "cs.charges"
     ],
     "language": "python",
     "metadata": {},
     "outputs": [
      {
       "metadata": {},
       "output_type": "pyout",
       "prompt_number": 49,
       "text": [
        "defaultdict(<type 'int'>, {'Nb1': 5, 'Li1': 1, 'O1': -2})"
       ]
      }
     ],
     "prompt_number": 49
    },
    {
     "cell_type": "code",
     "collapsed": false,
     "input": [
      "cs.elements"
     ],
     "language": "python",
     "metadata": {},
     "outputs": [
      {
       "metadata": {},
       "output_type": "pyout",
       "prompt_number": 50,
       "text": [
        "{'Li1': 'Li', 'Nb1': 'Nb', 'O1': 'O'}"
       ]
      }
     ],
     "prompt_number": 50
    },
    {
     "cell_type": "code",
     "collapsed": false,
     "input": [
      "cs.occupancy"
     ],
     "language": "python",
     "metadata": {},
     "outputs": [
      {
       "metadata": {},
       "output_type": "pyout",
       "prompt_number": 51,
       "text": [
        "{'Li1': 1.0, 'Nb1': 1.0, 'O1': 1.0}"
       ]
      }
     ],
     "prompt_number": 51
    },
    {
     "cell_type": "code",
     "collapsed": false,
     "input": [
      "cs.positions[\"Li1\"] # all positions in unit cell"
     ],
     "language": "python",
     "metadata": {},
     "outputs": [
      {
       "metadata": {},
       "output_type": "pyout",
       "prompt_number": 54,
       "text": [
        "[array([0, 0, 0.278720000000000], dtype=object),\n",
        " array([0, 0, 0.778720000000000], dtype=object),\n",
        " array([2/3, 1/3, 0.612053333333333], dtype=object),\n",
        " array([2/3, 1/3, 0.112053333333333], dtype=object),\n",
        " array([1/3, 2/3, 0.945386666666667], dtype=object),\n",
        " array([1/3, 2/3, 0.445386666666667], dtype=object)]"
       ]
      }
     ],
     "prompt_number": 54
    },
    {
     "cell_type": "code",
     "collapsed": false,
     "input": [
      "cs.get_density()"
     ],
     "language": "python",
     "metadata": {},
     "outputs": [
      {
       "metadata": {},
       "output_type": "pyout",
       "prompt_number": 55,
       "text": [
        "4.6329431433622155"
       ]
      }
     ],
     "prompt_number": 55
    },
    {
     "cell_type": "code",
     "collapsed": false,
     "input": [
      "cs.get_stoichiometry()"
     ],
     "language": "python",
     "metadata": {},
     "outputs": [
      {
       "metadata": {},
       "output_type": "pyout",
       "prompt_number": 56,
       "text": [
        "'NbO3Li'"
       ]
      }
     ],
     "prompt_number": 56
    },
    {
     "cell_type": "code",
     "collapsed": false,
     "input": [
      "cs.get_nearest_neighbors(\"Li1\", 8) # returns labels, distance and difference vector"
     ],
     "language": "python",
     "metadata": {},
     "outputs": [
      {
       "metadata": {},
       "output_type": "pyout",
       "prompt_number": 58,
       "text": [
        "(array(['O1', 'O1', 'O1', 'O1', 'O1', 'O1', 'Nb1', 'Nb1'], \n",
        "      dtype='|S3'),\n",
        " array([ 2.04978164,  2.04978164,  2.04978164,  2.27114128,  2.27114128,\n",
        "        2.27114128,  3.06608666,  3.06667815]),\n",
        " array([[-1.00593791, -1.65362372,  0.67470164],\n",
        "       [-0.92911119,  1.69797964,  0.67470164],\n",
        "       [ 1.9350491 , -0.04435593,  0.67470164],\n",
        "       [ 0.92911119, -1.27386736, -1.63465502],\n",
        "       [ 0.6386459 ,  1.44156758, -1.63465502],\n",
        "       [-1.56775709, -0.16770022, -1.63465502],\n",
        "       [ 0.        ,  0.        , -3.06608666],\n",
        "       [-2.573695  , -1.4859235 , -0.75672999]]))"
       ]
      }
     ],
     "prompt_number": 58
    },
    {
     "cell_type": "code",
     "collapsed": false,
     "input": [
      "cs.get_thermal_ellipsoids(\"Nb1\") # eigenvalues and eigenvectors for ADP of Nb"
     ],
     "language": "python",
     "metadata": {},
     "outputs": [
      {
       "metadata": {},
       "output_type": "pyout",
       "prompt_number": 61,
       "text": [
        "(array([ 0.0026764 ,  0.00323   ,  0.00486026]),\n",
        " array([[-0.14658319,  0.        , -0.98919835],\n",
        "       [-0.98919835,  0.        ,  0.14658319],\n",
        "       [-0.        ,  1.        ,  0.        ]]))"
       ]
      }
     ],
     "prompt_number": 61
    },
    {
     "cell_type": "code",
     "collapsed": false,
     "input": [
      "cs.multiplicity"
     ],
     "language": "python",
     "metadata": {},
     "outputs": [
      {
       "metadata": {},
       "output_type": "pyout",
       "prompt_number": 62,
       "text": [
        "defaultdict(<type 'int'>, {'Nb1': 6, 'Li1': 6, 'O1': 18})"
       ]
      }
     ],
     "prompt_number": 62
    },
    {
     "cell_type": "code",
     "collapsed": false,
     "input": [
      "cs.dE # edge shift"
     ],
     "language": "python",
     "metadata": {},
     "outputs": [
      {
       "metadata": {},
       "output_type": "pyout",
       "prompt_number": 64,
       "text": [
        "{'Li1': 0, 'Nb1': 0, 'O1': 0}"
       ]
      }
     ],
     "prompt_number": 64
    },
    {
     "cell_type": "code",
     "collapsed": false,
     "input": [
      "gen = cs.iter_rec_space(0.3) # iterator for all reflections in a ewald volume 2*sin(th)/lambda < 0.3"
     ],
     "language": "python",
     "metadata": {},
     "outputs": [],
     "prompt_number": 73
    },
    {
     "cell_type": "code",
     "collapsed": false,
     "input": [
      "print list(gen)"
     ],
     "language": "python",
     "metadata": {},
     "outputs": [
      {
       "output_type": "stream",
       "stream": "stdout",
       "text": [
        "[(1, 0, 2), (1, 0, 1), (1, 0, 0), (1, 0, -1), (1, 0, -2), (1, -1, 2), (1, -1, 1), (1, -1, 0), (1, -1, -1), (1, -1, -2), (0, 0, 4), (0, 0, 3), (0, 0, 2), (0, 0, 1), (0, 0, 0), (0, 0, -1), (0, 0, -2), (0, 0, -3), (0, 0, -4)]\n"
       ]
      }
     ],
     "prompt_number": 71
    },
    {
     "cell_type": "code",
     "collapsed": false,
     "input": [
      "cs.weights"
     ],
     "language": "python",
     "metadata": {},
     "outputs": [
      {
       "metadata": {},
       "output_type": "pyout",
       "prompt_number": 76,
       "text": [
        "{'Li': 6.941, 'Nb': 92.906, 'O': 15.999}"
       ]
      }
     ],
     "prompt_number": 76
    },
    {
     "cell_type": "code",
     "collapsed": false,
     "input": [
      "cs.metric_tensor"
     ],
     "language": "python",
     "metadata": {},
     "outputs": [
      {
       "metadata": {},
       "output_type": "pyout",
       "prompt_number": 77,
       "text": [
        "Matrix([\n",
        "[   a**2, -a**2/2,    0],\n",
        "[-a**2/2,    a**2,    0],\n",
        "[      0,       0, c**2]])"
       ]
      }
     ],
     "prompt_number": 77
    },
    {
     "cell_type": "code",
     "collapsed": false,
     "input": [
      "cs.metric_tensor_inv"
     ],
     "language": "python",
     "metadata": {},
     "outputs": [
      {
       "metadata": {},
       "output_type": "pyout",
       "prompt_number": 78,
       "text": [
        "Matrix([\n",
        "[4/(3*a**2), 2/(3*a**2),       0],\n",
        "[2/(3*a**2), 4/(3*a**2),       0],\n",
        "[         0,          0, c**(-2)]])"
       ]
      }
     ],
     "prompt_number": 78
    },
    {
     "cell_type": "code",
     "collapsed": false,
     "input": [
      "cs.metric_tensor_inv.subs(cs.subs) # the generic way to insert all current values"
     ],
     "language": "python",
     "metadata": {},
     "outputs": [
      {
       "metadata": {},
       "output_type": "pyout",
       "prompt_number": 79,
       "text": [
        "Matrix([\n",
        "[0.0503227756700119, 0.0251613878350059,                   0],\n",
        "[0.0251613878350059, 0.0503227756700119,                   0],\n",
        "[                 0,                  0, 0.00520853365300592]])"
       ]
      }
     ],
     "prompt_number": 79
    },
    {
     "cell_type": "raw",
     "metadata": {},
     "source": [
      "Units used are: Anstrom and eV"
     ]
    },
    {
     "cell_type": "code",
     "collapsed": false,
     "input": [
      "cs.F_DD"
     ],
     "language": "python",
     "metadata": {},
     "outputs": [
      {
       "metadata": {},
       "output_type": "pyout",
       "prompt_number": 81,
       "text": [
        "array([[0, 0, 0],\n",
        "       [0, 0, 0],\n",
        "       [0, 0, 0]], dtype=object)"
       ]
      }
     ],
     "prompt_number": 81
    },
    {
     "cell_type": "code",
     "collapsed": false,
     "input": [
      "func = cs.get_reflection_angles((0,0,1), 8000) # get function to calculat angle to surface and azimuth for each reflection"
     ],
     "language": "python",
     "metadata": {},
     "outputs": [
      {
       "output_type": "stream",
       "stream": "stdout",
       "text": [
        "000\n",
        "00l"
       ]
      },
      {
       "output_type": "stream",
       "stream": "stdout",
       "text": [
        "\n",
        "0k0"
       ]
      },
      {
       "output_type": "stream",
       "stream": "stdout",
       "text": [
        "\n",
        "0kl"
       ]
      },
      {
       "output_type": "stream",
       "stream": "stdout",
       "text": [
        "\n",
        "h00"
       ]
      },
      {
       "output_type": "stream",
       "stream": "stdout",
       "text": [
        "\n",
        "h0l"
       ]
      },
      {
       "output_type": "stream",
       "stream": "stdout",
       "text": [
        "\n",
        "hk0"
       ]
      },
      {
       "output_type": "stream",
       "stream": "stdout",
       "text": [
        "\n",
        "hkl"
       ]
      },
      {
       "output_type": "stream",
       "stream": "stdout",
       "text": [
        "\n"
       ]
      }
     ],
     "prompt_number": 91
    },
    {
     "cell_type": "code",
     "collapsed": false,
     "input": [
      "%pylab inline"
     ],
     "language": "python",
     "metadata": {},
     "outputs": [
      {
       "output_type": "stream",
       "stream": "stdout",
       "text": [
        "Populating the interactive namespace from numpy and matplotlib\n"
       ]
      },
      {
       "output_type": "stream",
       "stream": "stderr",
       "text": [
        "WARNING: pylab import has clobbered these variables: ['pylab']\n",
        "`%pylab --no-import-all` prevents importing * from pylab and numpy\n"
       ]
      }
     ],
     "prompt_number": 132
    },
    {
     "cell_type": "code",
     "collapsed": false,
     "input": [
      "map(degrees, func((0,1,1), 8000, 0)) # (h,k,l), energy, second azimuth"
     ],
     "language": "python",
     "metadata": {},
     "outputs": [
      {
       "metadata": {},
       "output_type": "pyout",
       "prompt_number": 133,
       "text": [
        "[79.973820872792956, -3.2058163933588304]"
       ]
      }
     ],
     "prompt_number": 133
    },
    {
     "cell_type": "raw",
     "metadata": {},
     "source": [
      "Example to get real intensities:"
     ]
    },
    {
     "cell_type": "code",
     "collapsed": false,
     "input": [
      "cs.DAFS(8048, (0,0,3))"
     ],
     "language": "python",
     "metadata": {},
     "outputs": [
      {
       "metadata": {},
       "output_type": "pyout",
       "prompt_number": 125,
       "text": [
        "array([ -9.25832124e-15 -5.47299240e-15j])"
       ]
      }
     ],
     "prompt_number": 125
    },
    {
     "cell_type": "code",
     "collapsed": false,
     "input": [
      "cs.DAFS(8048, (0,0,6))"
     ],
     "language": "python",
     "metadata": {},
     "outputs": [
      {
       "metadata": {},
       "output_type": "pyout",
       "prompt_number": 126,
       "text": [
        "array([ 103.59889715+75.83713276j])"
       ]
      }
     ],
     "prompt_number": 126
    },
    {
     "cell_type": "code",
     "collapsed": false,
     "input": [
      "Energy = linspace(17000, 20000, 1001)"
     ],
     "language": "python",
     "metadata": {},
     "outputs": [],
     "prompt_number": 142
    },
    {
     "cell_type": "code",
     "collapsed": false,
     "input": [
      "plot(Energy, cs.DAFS(Energy, (0,0,6), Temp=False))\n",
      "plot(Energy, cs.DAFS(Energy, (0,0,6), Temp=True))\n"
     ],
     "language": "python",
     "metadata": {},
     "outputs": [
      {
       "metadata": {},
       "output_type": "pyout",
       "prompt_number": 148,
       "text": [
        "[<matplotlib.lines.Line2D at 0x7f83d1186810>]"
       ]
      },
      {
       "metadata": {},
       "output_type": "display_data",
       "png": "[encoded data removed]",
       "text": [
        "<matplotlib.figure.Figure at 0x7f83d1227b50>"
       ]
      }
     ],
     "prompt_number": 148
    },
    {
     "cell_type": "code",
     "collapsed": false,
     "input": [
      "plot(Energy, cs.DAFS(Energy, (0,2,6), Temp=False))\n",
      "plot(Energy, cs.DAFS(Energy, (0,2,6), Temp=True))"
     ],
     "language": "python",
     "metadata": {},
     "outputs": [
      {
       "metadata": {},
       "output_type": "pyout",
       "prompt_number": 149,
       "text": [
        "[<matplotlib.lines.Line2D at 0x7f83d0e16ed0>]"
       ]
      },
      {
       "metadata": {},
       "output_type": "display_data",
       "png": "[encoded data removed]",
       "text": [
        "<matplotlib.figure.Figure at 0x7f83d0f32c90>"
       ]
      }
     ],
     "prompt_number": 149
    },
    {
     "cell_type": "code",
     "collapsed": false,
     "input": [
      "for table in [\"Henke\", \"Sasaki\", \"BrennanCowan\", \"CromerLiberman\"]:\n",
      "    del cs._ftab\n",
      "    plot(Energy, cs.DAFS(Energy, (0,0,6), table=table), label=table)\n",
      "legend()\n"
     ],
     "language": "python",
     "metadata": {},
     "outputs": [
      {
       "metadata": {},
       "output_type": "pyout",
       "prompt_number": 169,
       "text": [
        "<matplotlib.legend.Legend at 0x7f83d2445e50>"
       ]
      },
      {
       "metadata": {},
       "output_type": "display_data",
       "png": "[encoded data removed]",
       "text": [
        "<matplotlib.figure.Figure at 0x7f83d268da90>"
       ]
      }
     ],
     "prompt_number": 169
    },
    {
     "cell_type": "code",
     "collapsed": false,
     "input": [],
     "language": "python",
     "metadata": {},
     "outputs": [],
     "prompt_number": 155
    },
    {
     "cell_type": "code",
     "collapsed": false,
     "input": [],
     "language": "python",
     "metadata": {},
     "outputs": []
    }
   ],
   "metadata": {}
  }
 ]
}